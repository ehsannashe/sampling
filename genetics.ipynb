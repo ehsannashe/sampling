{
 "cells": [
  {
   "cell_type": "code",
   "execution_count": 7,
   "metadata": {},
   "outputs": [],
   "source": [
    "import numpy as np\n",
    "import random\n",
    "import pandas as pd\n",
    "from time import time\n",
    "from tqdm import tqdm\n",
    "from sklearn.preprocessing import minmax_scale"
   ]
  },
  {
   "cell_type": "code",
   "execution_count": 8,
   "metadata": {},
   "outputs": [
    {
     "data": {
      "text/html": [
       "<div>\n",
       "<style scoped>\n",
       "    .dataframe tbody tr th:only-of-type {\n",
       "        vertical-align: middle;\n",
       "    }\n",
       "\n",
       "    .dataframe tbody tr th {\n",
       "        vertical-align: top;\n",
       "    }\n",
       "\n",
       "    .dataframe thead th {\n",
       "        text-align: right;\n",
       "    }\n",
       "</style>\n",
       "<table border=\"1\" class=\"dataframe\">\n",
       "  <thead>\n",
       "    <tr style=\"text-align: right;\">\n",
       "      <th></th>\n",
       "      <th>0</th>\n",
       "      <th>1</th>\n",
       "      <th>2</th>\n",
       "      <th>3</th>\n",
       "      <th>4</th>\n",
       "      <th>5</th>\n",
       "      <th>6</th>\n",
       "      <th>7</th>\n",
       "      <th>8</th>\n",
       "      <th>9</th>\n",
       "      <th>...</th>\n",
       "      <th>17</th>\n",
       "      <th>18</th>\n",
       "      <th>19</th>\n",
       "      <th>20</th>\n",
       "      <th>21</th>\n",
       "      <th>22</th>\n",
       "      <th>23</th>\n",
       "      <th>24</th>\n",
       "      <th>25</th>\n",
       "      <th>label</th>\n",
       "    </tr>\n",
       "  </thead>\n",
       "  <tbody>\n",
       "    <tr>\n",
       "      <th>0</th>\n",
       "      <td>1.209513</td>\n",
       "      <td>0.588798</td>\n",
       "      <td>-0.443880</td>\n",
       "      <td>-0.343434</td>\n",
       "      <td>-0.388780</td>\n",
       "      <td>0.536716</td>\n",
       "      <td>-0.182281</td>\n",
       "      <td>-0.350877</td>\n",
       "      <td>-0.079242</td>\n",
       "      <td>0.216120</td>\n",
       "      <td>...</td>\n",
       "      <td>-0.067324</td>\n",
       "      <td>-0.168748</td>\n",
       "      <td>0.051440</td>\n",
       "      <td>0.095163</td>\n",
       "      <td>0.702551</td>\n",
       "      <td>0.665296</td>\n",
       "      <td>-0.006653</td>\n",
       "      <td>0.016676</td>\n",
       "      <td>-0.042396</td>\n",
       "      <td>59</td>\n",
       "    </tr>\n",
       "    <tr>\n",
       "      <th>1</th>\n",
       "      <td>1.202297</td>\n",
       "      <td>0.488674</td>\n",
       "      <td>-0.410836</td>\n",
       "      <td>-0.214348</td>\n",
       "      <td>0.052494</td>\n",
       "      <td>-0.643376</td>\n",
       "      <td>-0.383589</td>\n",
       "      <td>0.043562</td>\n",
       "      <td>-0.026972</td>\n",
       "      <td>0.579985</td>\n",
       "      <td>...</td>\n",
       "      <td>-0.081455</td>\n",
       "      <td>-0.283867</td>\n",
       "      <td>0.056391</td>\n",
       "      <td>0.049701</td>\n",
       "      <td>0.722340</td>\n",
       "      <td>0.651799</td>\n",
       "      <td>-0.001985</td>\n",
       "      <td>0.003494</td>\n",
       "      <td>-0.046455</td>\n",
       "      <td>59</td>\n",
       "    </tr>\n",
       "    <tr>\n",
       "      <th>2</th>\n",
       "      <td>1.202216</td>\n",
       "      <td>0.488681</td>\n",
       "      <td>-0.410753</td>\n",
       "      <td>-0.214394</td>\n",
       "      <td>0.052418</td>\n",
       "      <td>-0.643113</td>\n",
       "      <td>-0.383646</td>\n",
       "      <td>0.043509</td>\n",
       "      <td>-0.026983</td>\n",
       "      <td>0.579919</td>\n",
       "      <td>...</td>\n",
       "      <td>-0.081453</td>\n",
       "      <td>-0.286589</td>\n",
       "      <td>0.057193</td>\n",
       "      <td>0.048437</td>\n",
       "      <td>0.723262</td>\n",
       "      <td>0.650831</td>\n",
       "      <td>-0.000834</td>\n",
       "      <td>0.001222</td>\n",
       "      <td>-0.045558</td>\n",
       "      <td>59</td>\n",
       "    </tr>\n",
       "    <tr>\n",
       "      <th>3</th>\n",
       "      <td>0.639710</td>\n",
       "      <td>0.780882</td>\n",
       "      <td>-0.259236</td>\n",
       "      <td>0.044096</td>\n",
       "      <td>-0.340990</td>\n",
       "      <td>-0.344603</td>\n",
       "      <td>0.021090</td>\n",
       "      <td>-0.507578</td>\n",
       "      <td>0.003611</td>\n",
       "      <td>0.365988</td>\n",
       "      <td>...</td>\n",
       "      <td>0.937915</td>\n",
       "      <td>1.021114</td>\n",
       "      <td>0.320031</td>\n",
       "      <td>-0.199392</td>\n",
       "      <td>0.943167</td>\n",
       "      <td>0.374000</td>\n",
       "      <td>-0.484240</td>\n",
       "      <td>0.040488</td>\n",
       "      <td>-0.112420</td>\n",
       "      <td>962</td>\n",
       "    </tr>\n",
       "    <tr>\n",
       "      <th>4</th>\n",
       "      <td>1.114609</td>\n",
       "      <td>0.469510</td>\n",
       "      <td>0.704568</td>\n",
       "      <td>-0.322730</td>\n",
       "      <td>-0.219503</td>\n",
       "      <td>-0.202586</td>\n",
       "      <td>0.041881</td>\n",
       "      <td>-0.336737</td>\n",
       "      <td>-0.110972</td>\n",
       "      <td>0.291625</td>\n",
       "      <td>...</td>\n",
       "      <td>0.008656</td>\n",
       "      <td>-0.215116</td>\n",
       "      <td>0.057639</td>\n",
       "      <td>0.105707</td>\n",
       "      <td>0.703229</td>\n",
       "      <td>0.664095</td>\n",
       "      <td>0.002103</td>\n",
       "      <td>0.000461</td>\n",
       "      <td>-0.022415</td>\n",
       "      <td>1068</td>\n",
       "    </tr>\n",
       "  </tbody>\n",
       "</table>\n",
       "<p>5 rows × 27 columns</p>\n",
       "</div>"
      ],
      "text/plain": [
       "          0         1         2         3         4         5         6  \\\n",
       "0  1.209513  0.588798 -0.443880 -0.343434 -0.388780  0.536716 -0.182281   \n",
       "1  1.202297  0.488674 -0.410836 -0.214348  0.052494 -0.643376 -0.383589   \n",
       "2  1.202216  0.488681 -0.410753 -0.214394  0.052418 -0.643113 -0.383646   \n",
       "3  0.639710  0.780882 -0.259236  0.044096 -0.340990 -0.344603  0.021090   \n",
       "4  1.114609  0.469510  0.704568 -0.322730 -0.219503 -0.202586  0.041881   \n",
       "\n",
       "          7         8         9  ...          17        18        19  \\\n",
       "0 -0.350877 -0.079242  0.216120  ...   -0.067324 -0.168748  0.051440   \n",
       "1  0.043562 -0.026972  0.579985  ...   -0.081455 -0.283867  0.056391   \n",
       "2  0.043509 -0.026983  0.579919  ...   -0.081453 -0.286589  0.057193   \n",
       "3 -0.507578  0.003611  0.365988  ...    0.937915  1.021114  0.320031   \n",
       "4 -0.336737 -0.110972  0.291625  ...    0.008656 -0.215116  0.057639   \n",
       "\n",
       "         20        21        22        23        24        25  label  \n",
       "0  0.095163  0.702551  0.665296 -0.006653  0.016676 -0.042396     59  \n",
       "1  0.049701  0.722340  0.651799 -0.001985  0.003494 -0.046455     59  \n",
       "2  0.048437  0.723262  0.650831 -0.000834  0.001222 -0.045558     59  \n",
       "3 -0.199392  0.943167  0.374000 -0.484240  0.040488 -0.112420    962  \n",
       "4  0.105707  0.703229  0.664095  0.002103  0.000461 -0.022415   1068  \n",
       "\n",
       "[5 rows x 27 columns]"
      ]
     },
     "execution_count": 8,
     "metadata": {},
     "output_type": "execute_result"
    }
   ],
   "source": [
    "df=pd.read_csv(r'data.csv')\n",
    "df_=df.drop(['Unnamed: 0' , 'index'] , axis=1)\n",
    "df_.head()"
   ]
  },
  {
   "cell_type": "code",
   "execution_count": 4,
   "metadata": {},
   "outputs": [],
   "source": [
    "#create first population of coromosoms 100*125000\n",
    "\n",
    "w,h=125000,250\n",
    "corom=[[0 for x in range(w)] for y in range(h)]\n",
    "\n",
    "for i in range(len(corom)):\n",
    "    corom[i]=np.random.choice([0,1], size=125000 , p=[0.9 , 0.1])\n"
   ]
  },
  {
   "cell_type": "code",
   "execution_count": 9,
   "metadata": {},
   "outputs": [],
   "source": [
    "#define cost and fitness functions\n",
    "\n",
    "distr = []\n",
    "arange = []\n",
    "pas = 0\n",
    "sta = -0.90\n",
    "for i in range(2000): \n",
    "    lenn =len(df_.iloc[0][df_.iloc[0]<sta])\n",
    "    distr.append((lenn / 1250000) - pas)\n",
    "    pas = np.sum(distr)\n",
    "    arange.append(round(sta,2))\n",
    "    sta +=0.05\n",
    "    if sta>1.5:\n",
    "        break\n",
    "        \n",
    "def cost1(ch):\n",
    "#     print(\"c1: \",np.sum(ch)/125000)\n",
    "    return np.sum(ch)/1250000\n",
    "\n",
    "\n",
    "def cost2(ch):\n",
    "    df=df_.iloc[np.where(ch==1)]\n",
    "    summy = []\n",
    "    for j in df.columns:\n",
    "        j = int(j)\n",
    "        sc=0\n",
    "        pas=0\n",
    "        count=0\n",
    "        summ=[]\n",
    "        for i in arange:\n",
    "            lenn =df[df[j]<i].shape[0]\n",
    "            pers = (lenn / df.shape[0]  ) - pas\n",
    "            pas += pers\n",
    "            summ.append(np.abs(pers - distrToTal[j][count]))\n",
    "            count+=1\n",
    "        summy.append(np.sum(summ) * pca_ratio[j])\n",
    "        \n",
    "    return 1-np.sum(summy)\n",
    "\n",
    "# def cost2(ch):\n",
    "#     d=df_.iloc[np.where(ch==1)]\n",
    "#     sc=0\n",
    "#     count=0\n",
    "#     pas=0\n",
    "#     for i in arange:\n",
    "#         lenn = d[d<i].count()\n",
    "# #         lenn = (lenn / np.sum(ch)) - pas\n",
    "#         lenn = (lenn / 1250000) - pas\n",
    "#         pas += lenn\n",
    "#         sc += np.abs(lenn - distr[count])\n",
    "#         count+=1\n",
    "# #     print(\"c2: \", 1-np.mean(sc))\n",
    "#     return 1-np.mean(sc)\n",
    "\n",
    "def calc_fitness(corom):\n",
    "    \n",
    "    c1=[]\n",
    "    c2=[]\n",
    "    \n",
    "    for i in range(len(corom)):\n",
    "        c1.append(cost1(corom[i]))\n",
    "        c2.append((cost2(corom[i])))\n",
    "#         c2.append((cost2(corom[i])-0.85)*1)\n",
    "    \n",
    "    print('\\n')\n",
    "    print(\"c1 mean\",np.mean(c1))\n",
    "    print(\"c2 mean\",np.mean(c2))\n",
    "    return ((1-np.array(c1))+(1-np.array(c2)))/2"
   ]
  },
  {
   "cell_type": "code",
   "execution_count": 6,
   "metadata": {},
   "outputs": [
    {
     "name": "stderr",
     "output_type": "stream",
     "text": [
      "\r",
      "  0%|                                                                                          | 0/500 [00:00<?, ?it/s]"
     ]
    },
    {
     "name": "stdout",
     "output_type": "stream",
     "text": [
      "ittrate  0\n",
      "\n",
      "\n",
      "c1 mean 0.0100066976\n",
      "c2 mean 0.9903803541333334\n",
      "mean fitness:  0.4998064741333334\n",
      "best fitness:  0.4998104148148148\n",
      "mean sample len:  12508.372\n",
      "best sample len:  12251\n",
      "==================================================\n"
     ]
    },
    {
     "name": "stderr",
     "output_type": "stream",
     "text": [
      "\r",
      "  0%|▏                                                                              | 1/500 [01:36<13:26:20, 96.96s/it]"
     ]
    },
    {
     "name": "stdout",
     "output_type": "stream",
     "text": [
      "ittrate  1\n",
      "\n",
      "\n",
      "c1 mean 0.0087894752\n",
      "c2 mean 0.9915523854222222\n",
      "mean fitness:  0.49982906968888885\n",
      "best fitness:  0.49990274074074076\n",
      "mean sample len:  10986.844\n",
      "best sample len:  6022\n",
      "==================================================\n"
     ]
    },
    {
     "name": "stderr",
     "output_type": "stream",
     "text": [
      "\r",
      "  0%|▎                                                                              | 2/500 [03:04<12:46:09, 92.31s/it]"
     ]
    },
    {
     "name": "stdout",
     "output_type": "stream",
     "text": [
      "ittrate  2\n",
      "\n",
      "\n",
      "c1 mean 0.0049223136\n",
      "c2 mean 0.9952761296592592\n",
      "mean fitness:  0.49990077837037034\n",
      "best fitness:  0.49990311111111113\n",
      "mean sample len:  6152.892\n",
      "best sample len:  5997\n",
      "==================================================\n"
     ]
    },
    {
     "name": "stderr",
     "output_type": "stream",
     "text": [
      "\r",
      "  1%|▍                                                                              | 3/500 [04:04<11:16:26, 81.66s/it]"
     ]
    },
    {
     "name": "stdout",
     "output_type": "stream",
     "text": [
      "ittrate  3\n",
      "\n",
      "\n",
      "c1 mean 0.0048533984\n",
      "c2 mean 0.9953424885333334\n",
      "mean fitness:  0.49990205653333336\n",
      "best fitness:  0.4999033037037037\n",
      "mean sample len:  6066.748\n",
      "best sample len:  5982\n",
      "==================================================\n"
     ]
    },
    {
     "name": "stderr",
     "output_type": "stream",
     "text": [
      "\r",
      "  1%|▋                                                                              | 4/500 [05:04<10:29:27, 76.14s/it]"
     ]
    },
    {
     "name": "stdout",
     "output_type": "stream",
     "text": [
      "ittrate  4\n",
      "\n",
      "\n",
      "c1 mean 0.00483704\n",
      "c2 mean 0.9953582818370369\n",
      "mean fitness:  0.4999023390814815\n",
      "best fitness:  0.49990334814814813\n",
      "mean sample len:  6046.3\n",
      "best sample len:  5979\n",
      "==================================================\n"
     ]
    },
    {
     "name": "stderr",
     "output_type": "stream",
     "text": [
      "\r",
      "  1%|▊                                                                              | 5/500 [06:04<10:00:48, 72.83s/it]"
     ]
    },
    {
     "name": "stdout",
     "output_type": "stream",
     "text": [
      "ittrate  5\n",
      "\n",
      "\n",
      "c1 mean 0.0048288576\n",
      "c2 mean 0.9953661229037036\n",
      "mean fitness:  0.4999025097481482\n",
      "best fitness:  0.4999034814814815\n",
      "mean sample len:  6036.072\n",
      "best sample len:  5970\n",
      "==================================================\n"
     ]
    },
    {
     "name": "stderr",
     "output_type": "stream",
     "text": [
      "\r",
      "  1%|▉                                                                               | 6/500 [07:03<9:41:18, 70.61s/it]"
     ]
    },
    {
     "name": "stdout",
     "output_type": "stream",
     "text": [
      "ittrate  6\n",
      "\n",
      "\n",
      "c1 mean 0.004825017600000001\n",
      "c2 mean 0.9953698349037037\n",
      "mean fitness:  0.4999025737481481\n",
      "best fitness:  0.49990355555555555\n",
      "mean sample len:  6031.272\n",
      "best sample len:  5965\n",
      "==================================================\n"
     ]
    },
    {
     "name": "stderr",
     "output_type": "stream",
     "text": [
      "\r",
      "  1%|█                                                                               | 7/500 [08:02<9:26:55, 69.00s/it]"
     ]
    },
    {
     "name": "stdout",
     "output_type": "stream",
     "text": [
      "ittrate  7\n",
      "\n",
      "\n",
      "c1 mean 0.0048236927999999995\n",
      "c2 mean 0.9953710938074074\n",
      "mean fitness:  0.49990260669629627\n",
      "best fitness:  0.49990362962962964\n",
      "mean sample len:  6029.616\n",
      "best sample len:  5960\n",
      "==================================================\n"
     ]
    },
    {
     "name": "stderr",
     "output_type": "stream",
     "text": [
      "\r",
      "  2%|█▎                                                                              | 8/500 [09:03<9:16:41, 67.89s/it]"
     ]
    },
    {
     "name": "stdout",
     "output_type": "stream",
     "text": [
      "ittrate  8\n",
      "\n",
      "\n",
      "c1 mean 0.0048204544\n",
      "c2 mean 0.995374217125926\n",
      "mean fitness:  0.49990266423703694\n",
      "best fitness:  0.4999037481481482\n",
      "mean sample len:  6025.568\n",
      "best sample len:  5953\n",
      "==================================================\n"
     ]
    },
    {
     "name": "stderr",
     "output_type": "stream",
     "text": [
      "\r",
      "  2%|█▍                                                                              | 9/500 [10:02<9:07:44, 66.93s/it]"
     ]
    },
    {
     "name": "stdout",
     "output_type": "stream",
     "text": [
      "ittrate  9\n",
      "\n",
      "\n",
      "c1 mean 0.004814351999999999\n",
      "c2 mean 0.9953800977777777\n",
      "mean fitness:  0.4999027751111111\n",
      "best fitness:  0.4999038222222222\n",
      "mean sample len:  6017.94\n",
      "best sample len:  5947\n",
      "==================================================\n"
     ]
    },
    {
     "name": "stderr",
     "output_type": "stream",
     "text": [
      "\r",
      "  2%|█▌                                                                             | 10/500 [11:01<9:00:22, 66.17s/it]"
     ]
    },
    {
     "name": "stdout",
     "output_type": "stream",
     "text": [
      "ittrate  10\n",
      "\n",
      "\n",
      "c1 mean 0.004808089600000001\n",
      "c2 mean 0.9953861297777779\n",
      "mean fitness:  0.4999028903111111\n",
      "best fitness:  0.49990395555555556\n",
      "mean sample len:  6010.112\n",
      "best sample len:  5938\n",
      "==================================================\n"
     ]
    },
    {
     "name": "stderr",
     "output_type": "stream",
     "text": [
      "\r",
      "  2%|█▋                                                                             | 11/500 [12:00<8:54:06, 65.53s/it]"
     ]
    },
    {
     "name": "stdout",
     "output_type": "stream",
     "text": [
      "ittrate  11\n"
     ]
    },
    {
     "ename": "KeyboardInterrupt",
     "evalue": "",
     "output_type": "error",
     "traceback": [
      "\u001b[1;31m---------------------------------------------------------------------------\u001b[0m",
      "\u001b[1;31mKeyboardInterrupt\u001b[0m                         Traceback (most recent call last)",
      "\u001b[1;32m<ipython-input-6-d8375443cace>\u001b[0m in \u001b[0;36m<module>\u001b[1;34m()\u001b[0m\n\u001b[0;32m      1\u001b[0m \u001b[1;32mfor\u001b[0m \u001b[0mi\u001b[0m \u001b[1;32min\u001b[0m \u001b[0mtqdm\u001b[0m\u001b[1;33m(\u001b[0m\u001b[0mrange\u001b[0m\u001b[1;33m(\u001b[0m\u001b[1;36m500\u001b[0m\u001b[1;33m)\u001b[0m\u001b[1;33m)\u001b[0m\u001b[1;33m:\u001b[0m\u001b[1;33m\u001b[0m\u001b[0m\n\u001b[0;32m      2\u001b[0m     \u001b[0mprint\u001b[0m\u001b[1;33m(\u001b[0m\u001b[1;34m\"ittrate \"\u001b[0m\u001b[1;33m,\u001b[0m \u001b[0mi\u001b[0m\u001b[1;33m)\u001b[0m\u001b[1;33m\u001b[0m\u001b[0m\n\u001b[1;32m----> 3\u001b[1;33m     \u001b[0ma\u001b[0m\u001b[1;33m=\u001b[0m\u001b[0mcalc_fitness\u001b[0m\u001b[1;33m(\u001b[0m\u001b[0mcorom\u001b[0m\u001b[1;33m)\u001b[0m\u001b[1;33m\u001b[0m\u001b[0m\n\u001b[0m\u001b[0;32m      4\u001b[0m     \u001b[0mprint\u001b[0m\u001b[1;33m(\u001b[0m\u001b[1;34m\"mean fitness: \"\u001b[0m\u001b[1;33m,\u001b[0m\u001b[0mnp\u001b[0m\u001b[1;33m.\u001b[0m\u001b[0mmean\u001b[0m\u001b[1;33m(\u001b[0m\u001b[0ma\u001b[0m\u001b[1;33m)\u001b[0m\u001b[1;33m)\u001b[0m\u001b[1;33m\u001b[0m\u001b[0m\n\u001b[0;32m      5\u001b[0m     \u001b[0mprint\u001b[0m\u001b[1;33m(\u001b[0m\u001b[1;34m\"best fitness: \"\u001b[0m\u001b[1;33m,\u001b[0m\u001b[0mmax\u001b[0m\u001b[1;33m(\u001b[0m\u001b[0ma\u001b[0m\u001b[1;33m)\u001b[0m\u001b[1;33m)\u001b[0m\u001b[1;33m\u001b[0m\u001b[0m\n",
      "\u001b[1;32m<ipython-input-5-9d5bef910307>\u001b[0m in \u001b[0;36mcalc_fitness\u001b[1;34m(corom)\u001b[0m\n\u001b[0;32m     60\u001b[0m     \u001b[1;32mfor\u001b[0m \u001b[0mi\u001b[0m \u001b[1;32min\u001b[0m \u001b[0mrange\u001b[0m\u001b[1;33m(\u001b[0m\u001b[0mlen\u001b[0m\u001b[1;33m(\u001b[0m\u001b[0mcorom\u001b[0m\u001b[1;33m)\u001b[0m\u001b[1;33m)\u001b[0m\u001b[1;33m:\u001b[0m\u001b[1;33m\u001b[0m\u001b[0m\n\u001b[0;32m     61\u001b[0m         \u001b[0mc1\u001b[0m\u001b[1;33m.\u001b[0m\u001b[0mappend\u001b[0m\u001b[1;33m(\u001b[0m\u001b[0mcost1\u001b[0m\u001b[1;33m(\u001b[0m\u001b[0mcorom\u001b[0m\u001b[1;33m[\u001b[0m\u001b[0mi\u001b[0m\u001b[1;33m]\u001b[0m\u001b[1;33m)\u001b[0m\u001b[1;33m)\u001b[0m\u001b[1;33m\u001b[0m\u001b[0m\n\u001b[1;32m---> 62\u001b[1;33m         \u001b[0mc2\u001b[0m\u001b[1;33m.\u001b[0m\u001b[0mappend\u001b[0m\u001b[1;33m(\u001b[0m\u001b[1;33m(\u001b[0m\u001b[0mcost2\u001b[0m\u001b[1;33m(\u001b[0m\u001b[0mcorom\u001b[0m\u001b[1;33m[\u001b[0m\u001b[0mi\u001b[0m\u001b[1;33m]\u001b[0m\u001b[1;33m)\u001b[0m\u001b[1;33m)\u001b[0m\u001b[1;33m)\u001b[0m\u001b[1;33m\u001b[0m\u001b[0m\n\u001b[0m\u001b[0;32m     63\u001b[0m \u001b[1;31m#         c2.append((cost2(corom[i])-0.85)*1)\u001b[0m\u001b[1;33m\u001b[0m\u001b[1;33m\u001b[0m\u001b[0m\n\u001b[0;32m     64\u001b[0m \u001b[1;33m\u001b[0m\u001b[0m\n",
      "\u001b[1;32m<ipython-input-5-9d5bef910307>\u001b[0m in \u001b[0;36mcost2\u001b[1;34m(ch)\u001b[0m\n\u001b[0;32m     44\u001b[0m     \u001b[0mpas\u001b[0m\u001b[1;33m=\u001b[0m\u001b[1;36m0\u001b[0m\u001b[1;33m\u001b[0m\u001b[0m\n\u001b[0;32m     45\u001b[0m     \u001b[1;32mfor\u001b[0m \u001b[0mi\u001b[0m \u001b[1;32min\u001b[0m \u001b[0marange\u001b[0m\u001b[1;33m:\u001b[0m\u001b[1;33m\u001b[0m\u001b[0m\n\u001b[1;32m---> 46\u001b[1;33m         \u001b[0mlenn\u001b[0m \u001b[1;33m=\u001b[0m \u001b[0md\u001b[0m\u001b[1;33m[\u001b[0m\u001b[0md\u001b[0m\u001b[1;33m<\u001b[0m\u001b[0mi\u001b[0m\u001b[1;33m]\u001b[0m\u001b[1;33m.\u001b[0m\u001b[0mcount\u001b[0m\u001b[1;33m(\u001b[0m\u001b[1;33m)\u001b[0m\u001b[1;33m\u001b[0m\u001b[0m\n\u001b[0m\u001b[0;32m     47\u001b[0m \u001b[1;31m#         lenn = (lenn / np.sum(ch)) - pas\u001b[0m\u001b[1;33m\u001b[0m\u001b[1;33m\u001b[0m\u001b[0m\n\u001b[0;32m     48\u001b[0m         \u001b[0mlenn\u001b[0m \u001b[1;33m=\u001b[0m \u001b[1;33m(\u001b[0m\u001b[0mlenn\u001b[0m \u001b[1;33m/\u001b[0m \u001b[1;36m1250000\u001b[0m\u001b[1;33m)\u001b[0m \u001b[1;33m-\u001b[0m \u001b[0mpas\u001b[0m\u001b[1;33m\u001b[0m\u001b[0m\n",
      "\u001b[1;32mC:\\ProgramData\\Anaconda3\\lib\\site-packages\\pandas\\core\\frame.py\u001b[0m in \u001b[0;36mcount\u001b[1;34m(self, axis, level, numeric_only)\u001b[0m\n\u001b[0;32m   6786\u001b[0m             \u001b[1;32melse\u001b[0m\u001b[1;33m:\u001b[0m\u001b[1;33m\u001b[0m\u001b[0m\n\u001b[0;32m   6787\u001b[0m                 \u001b[1;31m# GH13407\u001b[0m\u001b[1;33m\u001b[0m\u001b[1;33m\u001b[0m\u001b[0m\n\u001b[1;32m-> 6788\u001b[1;33m                 \u001b[0mseries_counts\u001b[0m \u001b[1;33m=\u001b[0m \u001b[0mnotna\u001b[0m\u001b[1;33m(\u001b[0m\u001b[0mframe\u001b[0m\u001b[1;33m)\u001b[0m\u001b[1;33m.\u001b[0m\u001b[0msum\u001b[0m\u001b[1;33m(\u001b[0m\u001b[0maxis\u001b[0m\u001b[1;33m=\u001b[0m\u001b[0maxis\u001b[0m\u001b[1;33m)\u001b[0m\u001b[1;33m\u001b[0m\u001b[0m\n\u001b[0m\u001b[0;32m   6789\u001b[0m                 \u001b[0mcounts\u001b[0m \u001b[1;33m=\u001b[0m \u001b[0mseries_counts\u001b[0m\u001b[1;33m.\u001b[0m\u001b[0mvalues\u001b[0m\u001b[1;33m\u001b[0m\u001b[0m\n\u001b[0;32m   6790\u001b[0m                 \u001b[0mresult\u001b[0m \u001b[1;33m=\u001b[0m \u001b[0mSeries\u001b[0m\u001b[1;33m(\u001b[0m\u001b[0mcounts\u001b[0m\u001b[1;33m,\u001b[0m \u001b[0mindex\u001b[0m\u001b[1;33m=\u001b[0m\u001b[0mframe\u001b[0m\u001b[1;33m.\u001b[0m\u001b[0m_get_agg_axis\u001b[0m\u001b[1;33m(\u001b[0m\u001b[0maxis\u001b[0m\u001b[1;33m)\u001b[0m\u001b[1;33m)\u001b[0m\u001b[1;33m\u001b[0m\u001b[0m\n",
      "\u001b[1;32mC:\\ProgramData\\Anaconda3\\lib\\site-packages\\pandas\\core\\generic.py\u001b[0m in \u001b[0;36mstat_func\u001b[1;34m(self, axis, skipna, level, numeric_only, min_count, **kwargs)\u001b[0m\n\u001b[0;32m   9567\u001b[0m                                       skipna=skipna, min_count=min_count)\n\u001b[0;32m   9568\u001b[0m         return self._reduce(f, name, axis=axis, skipna=skipna,\n\u001b[1;32m-> 9569\u001b[1;33m                             numeric_only=numeric_only, min_count=min_count)\n\u001b[0m\u001b[0;32m   9570\u001b[0m \u001b[1;33m\u001b[0m\u001b[0m\n\u001b[0;32m   9571\u001b[0m     \u001b[1;32mreturn\u001b[0m \u001b[0mset_function_name\u001b[0m\u001b[1;33m(\u001b[0m\u001b[0mstat_func\u001b[0m\u001b[1;33m,\u001b[0m \u001b[0mname\u001b[0m\u001b[1;33m,\u001b[0m \u001b[0mcls\u001b[0m\u001b[1;33m)\u001b[0m\u001b[1;33m\u001b[0m\u001b[0m\n",
      "\u001b[1;32mC:\\ProgramData\\Anaconda3\\lib\\site-packages\\pandas\\core\\frame.py\u001b[0m in \u001b[0;36m_reduce\u001b[1;34m(self, op, name, axis, skipna, numeric_only, filter_type, **kwds)\u001b[0m\n\u001b[0;32m   6849\u001b[0m             \u001b[1;32mtry\u001b[0m\u001b[1;33m:\u001b[0m\u001b[1;33m\u001b[0m\u001b[0m\n\u001b[0;32m   6850\u001b[0m                 \u001b[0mvalues\u001b[0m \u001b[1;33m=\u001b[0m \u001b[0mself\u001b[0m\u001b[1;33m.\u001b[0m\u001b[0mvalues\u001b[0m\u001b[1;33m\u001b[0m\u001b[0m\n\u001b[1;32m-> 6851\u001b[1;33m                 \u001b[0mresult\u001b[0m \u001b[1;33m=\u001b[0m \u001b[0mf\u001b[0m\u001b[1;33m(\u001b[0m\u001b[0mvalues\u001b[0m\u001b[1;33m)\u001b[0m\u001b[1;33m\u001b[0m\u001b[0m\n\u001b[0m\u001b[0;32m   6852\u001b[0m             \u001b[1;32mexcept\u001b[0m \u001b[0mException\u001b[0m \u001b[1;32mas\u001b[0m \u001b[0me\u001b[0m\u001b[1;33m:\u001b[0m\u001b[1;33m\u001b[0m\u001b[0m\n\u001b[0;32m   6853\u001b[0m \u001b[1;33m\u001b[0m\u001b[0m\n",
      "\u001b[1;32mC:\\ProgramData\\Anaconda3\\lib\\site-packages\\pandas\\core\\frame.py\u001b[0m in \u001b[0;36mf\u001b[1;34m(x)\u001b[0m\n\u001b[0;32m   6838\u001b[0m \u001b[1;33m\u001b[0m\u001b[0m\n\u001b[0;32m   6839\u001b[0m         \u001b[1;32mdef\u001b[0m \u001b[0mf\u001b[0m\u001b[1;33m(\u001b[0m\u001b[0mx\u001b[0m\u001b[1;33m)\u001b[0m\u001b[1;33m:\u001b[0m\u001b[1;33m\u001b[0m\u001b[0m\n\u001b[1;32m-> 6840\u001b[1;33m             \u001b[1;32mreturn\u001b[0m \u001b[0mop\u001b[0m\u001b[1;33m(\u001b[0m\u001b[0mx\u001b[0m\u001b[1;33m,\u001b[0m \u001b[0maxis\u001b[0m\u001b[1;33m=\u001b[0m\u001b[0maxis\u001b[0m\u001b[1;33m,\u001b[0m \u001b[0mskipna\u001b[0m\u001b[1;33m=\u001b[0m\u001b[0mskipna\u001b[0m\u001b[1;33m,\u001b[0m \u001b[1;33m**\u001b[0m\u001b[0mkwds\u001b[0m\u001b[1;33m)\u001b[0m\u001b[1;33m\u001b[0m\u001b[0m\n\u001b[0m\u001b[0;32m   6841\u001b[0m \u001b[1;33m\u001b[0m\u001b[0m\n\u001b[0;32m   6842\u001b[0m         \u001b[0mlabels\u001b[0m \u001b[1;33m=\u001b[0m \u001b[0mself\u001b[0m\u001b[1;33m.\u001b[0m\u001b[0m_get_agg_axis\u001b[0m\u001b[1;33m(\u001b[0m\u001b[0maxis\u001b[0m\u001b[1;33m)\u001b[0m\u001b[1;33m\u001b[0m\u001b[0m\n",
      "\u001b[1;32mC:\\ProgramData\\Anaconda3\\lib\\site-packages\\pandas\\core\\nanops.py\u001b[0m in \u001b[0;36m_f\u001b[1;34m(*args, **kwargs)\u001b[0m\n\u001b[0;32m     75\u001b[0m             \u001b[1;32mtry\u001b[0m\u001b[1;33m:\u001b[0m\u001b[1;33m\u001b[0m\u001b[0m\n\u001b[0;32m     76\u001b[0m                 \u001b[1;32mwith\u001b[0m \u001b[0mnp\u001b[0m\u001b[1;33m.\u001b[0m\u001b[0merrstate\u001b[0m\u001b[1;33m(\u001b[0m\u001b[0minvalid\u001b[0m\u001b[1;33m=\u001b[0m\u001b[1;34m'ignore'\u001b[0m\u001b[1;33m)\u001b[0m\u001b[1;33m:\u001b[0m\u001b[1;33m\u001b[0m\u001b[0m\n\u001b[1;32m---> 77\u001b[1;33m                     \u001b[1;32mreturn\u001b[0m \u001b[0mf\u001b[0m\u001b[1;33m(\u001b[0m\u001b[1;33m*\u001b[0m\u001b[0margs\u001b[0m\u001b[1;33m,\u001b[0m \u001b[1;33m**\u001b[0m\u001b[0mkwargs\u001b[0m\u001b[1;33m)\u001b[0m\u001b[1;33m\u001b[0m\u001b[0m\n\u001b[0m\u001b[0;32m     78\u001b[0m             \u001b[1;32mexcept\u001b[0m \u001b[0mValueError\u001b[0m \u001b[1;32mas\u001b[0m \u001b[0me\u001b[0m\u001b[1;33m:\u001b[0m\u001b[1;33m\u001b[0m\u001b[0m\n\u001b[0;32m     79\u001b[0m                 \u001b[1;31m# we want to transform an object array\u001b[0m\u001b[1;33m\u001b[0m\u001b[1;33m\u001b[0m\u001b[0m\n",
      "\u001b[1;32mC:\\ProgramData\\Anaconda3\\lib\\site-packages\\pandas\\core\\nanops.py\u001b[0m in \u001b[0;36mnansum\u001b[1;34m(values, axis, skipna, min_count)\u001b[0m\n\u001b[0;32m    334\u001b[0m     \u001b[1;32melif\u001b[0m \u001b[0mis_timedelta64_dtype\u001b[0m\u001b[1;33m(\u001b[0m\u001b[0mdtype\u001b[0m\u001b[1;33m)\u001b[0m\u001b[1;33m:\u001b[0m\u001b[1;33m\u001b[0m\u001b[0m\n\u001b[0;32m    335\u001b[0m         \u001b[0mdtype_sum\u001b[0m \u001b[1;33m=\u001b[0m \u001b[0mnp\u001b[0m\u001b[1;33m.\u001b[0m\u001b[0mfloat64\u001b[0m\u001b[1;33m\u001b[0m\u001b[0m\n\u001b[1;32m--> 336\u001b[1;33m     \u001b[0mthe_sum\u001b[0m \u001b[1;33m=\u001b[0m \u001b[0mvalues\u001b[0m\u001b[1;33m.\u001b[0m\u001b[0msum\u001b[0m\u001b[1;33m(\u001b[0m\u001b[0maxis\u001b[0m\u001b[1;33m,\u001b[0m \u001b[0mdtype\u001b[0m\u001b[1;33m=\u001b[0m\u001b[0mdtype_sum\u001b[0m\u001b[1;33m)\u001b[0m\u001b[1;33m\u001b[0m\u001b[0m\n\u001b[0m\u001b[0;32m    337\u001b[0m     \u001b[0mthe_sum\u001b[0m \u001b[1;33m=\u001b[0m \u001b[0m_maybe_null_out\u001b[0m\u001b[1;33m(\u001b[0m\u001b[0mthe_sum\u001b[0m\u001b[1;33m,\u001b[0m \u001b[0maxis\u001b[0m\u001b[1;33m,\u001b[0m \u001b[0mmask\u001b[0m\u001b[1;33m,\u001b[0m \u001b[0mmin_count\u001b[0m\u001b[1;33m=\u001b[0m\u001b[0mmin_count\u001b[0m\u001b[1;33m)\u001b[0m\u001b[1;33m\u001b[0m\u001b[0m\n\u001b[0;32m    338\u001b[0m \u001b[1;33m\u001b[0m\u001b[0m\n",
      "\u001b[1;32mC:\\ProgramData\\Anaconda3\\lib\\site-packages\\numpy\\core\\_methods.py\u001b[0m in \u001b[0;36m_sum\u001b[1;34m(a, axis, dtype, out, keepdims, initial, where)\u001b[0m\n\u001b[0;32m     36\u001b[0m def _sum(a, axis=None, dtype=None, out=None, keepdims=False,\n\u001b[0;32m     37\u001b[0m          initial=_NoValue, where=True):\n\u001b[1;32m---> 38\u001b[1;33m     \u001b[1;32mreturn\u001b[0m \u001b[0mumr_sum\u001b[0m\u001b[1;33m(\u001b[0m\u001b[0ma\u001b[0m\u001b[1;33m,\u001b[0m \u001b[0maxis\u001b[0m\u001b[1;33m,\u001b[0m \u001b[0mdtype\u001b[0m\u001b[1;33m,\u001b[0m \u001b[0mout\u001b[0m\u001b[1;33m,\u001b[0m \u001b[0mkeepdims\u001b[0m\u001b[1;33m,\u001b[0m \u001b[0minitial\u001b[0m\u001b[1;33m,\u001b[0m \u001b[0mwhere\u001b[0m\u001b[1;33m)\u001b[0m\u001b[1;33m\u001b[0m\u001b[0m\n\u001b[0m\u001b[0;32m     39\u001b[0m \u001b[1;33m\u001b[0m\u001b[0m\n\u001b[0;32m     40\u001b[0m def _prod(a, axis=None, dtype=None, out=None, keepdims=False,\n",
      "\u001b[1;31mKeyboardInterrupt\u001b[0m: "
     ]
    }
   ],
   "source": [
    "for i in tqdm(range(500)):\n",
    "    print(\"ittrate \", i)\n",
    "    a=calc_fitness(corom)\n",
    "    print(\"mean fitness: \",np.mean(a))\n",
    "    print(\"best fitness: \",max(a))\n",
    "    print(\"mean sample len: \", sum(corom).sum()/250)\n",
    "    \n",
    "    \n",
    "#     #tournoment\n",
    "#     new_corom=[]\n",
    "#     for ii in range(35):\n",
    "#         a_=a\n",
    "#         best_parents=[]\n",
    "#         random_selection=random.sample(range(0,100) , 5)\n",
    "#         best_parents.append(np.where(a_==max(a_[random_selection]))[0][0])\n",
    "#         random_selection=random.sample(range(0,100) , 5)\n",
    "#         best_parents.append(np.where(a_==max(a_[random_selection]))[0][0])\n",
    "#         new_corom.append(np.concatenate((corom[best_parents[0]][:62500],corom[best_parents[1]][62500:])))\n",
    "#         new_corom.append(np.concatenate((corom[best_parents[0]][62500:],corom[best_parents[1]][:62500])))\n",
    "\n",
    "#     for ii in range(7):\n",
    "#         cc=random.sample(range(0,124999) , 500)\n",
    "#         for jj in (cc):\n",
    "#             if new_corom[ii][jj]==1:\n",
    "#                 new_corom[ii][jj]=0\n",
    "   \n",
    "    \n",
    "    #find best parents\n",
    "    best_parents=[]\n",
    "    for ii in range(14):\n",
    "        ix=int(np.where(a==max(a))[0][0])\n",
    "        best_parents.append(ix)\n",
    "        a[ix]=-99\n",
    "    \n",
    "    print(\"best sample len: \", corom[best_parents[0]].sum())\n",
    "    print(\"==================================================\")\n",
    "    \n",
    "    #generate new childs\n",
    "    new_corom=[]\n",
    "    for ii in best_parents:\n",
    "        for jj in best_parents:\n",
    "            if ii < jj:\n",
    "                new_corom.append(np.concatenate((corom[ii][:62500],corom[jj][62500:])))\n",
    "                new_corom.append(np.concatenate((corom[ii][62500:],corom[jj][:62500])))\n",
    "    \n",
    "    #mutation\n",
    "    for ii in range(int(len(new_corom)*0.35)):\n",
    "        cc=random.sample(range(0,124999) , 50)\n",
    "        for jj in (cc):\n",
    "            if new_corom[ii][jj]==1:\n",
    "                new_corom[ii][jj]=0\n",
    "    \n",
    "    #add best parents to new list of coromosoms\n",
    "    for ii in best_parents:\n",
    "        new_corom.append(corom[ii])\n",
    "        \n",
    "    #add 22 random coromosoms to new list of coromosoms    \n",
    "    for ii in range(54):\n",
    "        new_corom.append(np.random.choice([0,1], size=125000 , p=[0.95 , 0.05]))\n",
    "    \n",
    "    corom=[]\n",
    "    corom=new_corom"
   ]
  },
  {
   "cell_type": "code",
   "execution_count": 7,
   "metadata": {},
   "outputs": [],
   "source": [
    "# corom.to_csv(r\"coroms.csv\")"
   ]
  },
  {
   "cell_type": "code",
   "execution_count": 12,
   "metadata": {},
   "outputs": [
    {
     "name": "stdout",
     "output_type": "stream",
     "text": [
      "\n",
      "\n",
      "c1 mean 0.0032107999999999998\n",
      "c2 mean 0.9969239314962962\n"
     ]
    }
   ],
   "source": [
    "a=calc_fitness(corom)"
   ]
  },
  {
   "cell_type": "code",
   "execution_count": 13,
   "metadata": {},
   "outputs": [
    {
     "data": {
      "text/plain": [
       "22"
      ]
     },
     "execution_count": 13,
     "metadata": {},
     "output_type": "execute_result"
    }
   ],
   "source": [
    "ix=int(np.where(a==max(a))[0][0])\n",
    "ix"
   ]
  },
  {
   "cell_type": "code",
   "execution_count": 14,
   "metadata": {},
   "outputs": [
    {
     "data": {
      "text/plain": [
       "array([    12,    102,    133, ..., 124890, 124925, 124947], dtype=int64)"
      ]
     },
     "execution_count": 14,
     "metadata": {},
     "output_type": "execute_result"
    }
   ],
   "source": [
    "inxs=np.where(corom[ix]==1)[0]\n",
    "inxs"
   ]
  },
  {
   "cell_type": "code",
   "execution_count": 15,
   "metadata": {},
   "outputs": [],
   "source": [
    "df.iloc[inxs].to_csv(r\"genetics_sample.csv\")"
   ]
  },
  {
   "cell_type": "code",
   "execution_count": null,
   "metadata": {},
   "outputs": [],
   "source": []
  }
 ],
 "metadata": {
  "kernelspec": {
   "display_name": "Python 3",
   "language": "python",
   "name": "python3"
  },
  "language_info": {
   "codemirror_mode": {
    "name": "ipython",
    "version": 3
   },
   "file_extension": ".py",
   "mimetype": "text/x-python",
   "name": "python",
   "nbconvert_exporter": "python",
   "pygments_lexer": "ipython3",
   "version": "3.6.5"
  }
 },
 "nbformat": 4,
 "nbformat_minor": 2
}
